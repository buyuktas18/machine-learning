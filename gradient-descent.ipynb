{
 "cells": [
  {
   "cell_type": "code",
   "execution_count": 1,
   "metadata": {},
   "outputs": [],
   "source": [
    "import pandas as pd\n",
    "from sklearn.model_selection import train_test_split\n",
    "from sklearn.linear_model import LogisticRegression\n",
    "from sklearn import metrics\n",
    "import seaborn as sn\n",
    "import matplotlib.pyplot as plt\n",
    "import numpy as np"
   ]
  },
  {
   "cell_type": "code",
   "execution_count": 2,
   "metadata": {},
   "outputs": [
    {
     "name": "stdout",
     "output_type": "stream",
     "text": [
      "    gmat  gpa  work_experience  admitted\n",
      "0    780  4.0                3         1\n",
      "1    750  3.9                4         1\n",
      "2    690  3.3                3         0\n",
      "3    710  3.7                5         1\n",
      "4    680  3.9                4         0\n",
      "5    730  3.7                6         1\n",
      "6    690  2.3                1         0\n",
      "7    720  3.3                4         1\n",
      "8    740  3.3                5         1\n",
      "9    690  1.7                1         0\n",
      "10   610  2.7                3         0\n",
      "11   690  3.7                5         1\n",
      "12   710  3.7                6         1\n",
      "13   680  3.3                4         0\n",
      "14   770  3.3                3         1\n",
      "15   610  3.0                1         0\n",
      "16   580  2.7                4         0\n",
      "17   650  3.7                6         1\n",
      "18   540  2.7                2         0\n",
      "19   590  2.3                3         0\n",
      "20   620  3.3                2         1\n",
      "21   600  2.0                1         0\n",
      "22   550  2.3                4         0\n",
      "23   550  2.7                1         0\n",
      "24   570  3.0                2         0\n",
      "25   670  3.3                6         1\n",
      "26   660  3.7                4         1\n",
      "27   580  2.3                2         0\n",
      "28   650  3.7                6         1\n",
      "29   660  3.3                5         1\n",
      "30   640  3.0                1         0\n",
      "31   620  2.7                2         0\n",
      "32   660  4.0                4         1\n",
      "33   660  3.3                6         1\n",
      "34   680  3.3                5         1\n",
      "35   650  2.3                1         0\n",
      "36   670  2.7                2         0\n",
      "37   580  3.3                1         0\n",
      "38   590  1.7                4         0\n",
      "39   690  3.7                5         1\n"
     ]
    }
   ],
   "source": [
    "import pandas as pd\n",
    "candidates = {'gmat': [780,750,690,710,680,730,690,720,740,690,610,690,710,680,770,610,580,650,540,590,620,600,550,550,570,670,660,580,650,660,640,620,660,660,680,650,670,580,590,690],\n",
    "              'gpa': [4,3.9,3.3,3.7,3.9,3.7,2.3,3.3,3.3,1.7,2.7,3.7,3.7,3.3,3.3,3,2.7,3.7,2.7,2.3,3.3,2,2.3,2.7,3,3.3,3.7,2.3,3.7,3.3,3,2.7,4,3.3,3.3,2.3,2.7,3.3,1.7,3.7],\n",
    "              'work_experience': [3,4,3,5,4,6,1,4,5,1,3,5,6,4,3,1,4,6,2,3,2,1,4,1,2,6,4,2,6,5,1,2,4,6,5,1,2,1,4,5],\n",
    "              'admitted': [1,1,0,1,0,1,0,1,1,0,0,1,1,0,1,0,0,1,0,0,1,0,0,0,0,1,1,0,1,1,0,0,1,1,1,0,0,0,0,1]\n",
    "              }\n",
    "\n",
    "df = pd.DataFrame(candidates,columns= ['gmat', 'gpa','work_experience','admitted'])\n",
    "print (df)"
   ]
  },
  {
   "cell_type": "code",
   "execution_count": 309,
   "metadata": {},
   "outputs": [],
   "source": [
    "X = df[['gmat', 'gpa','work_experience']]\n",
    "y = df['admitted']"
   ]
  },
  {
   "cell_type": "code",
   "execution_count": 310,
   "metadata": {},
   "outputs": [],
   "source": [
    "X = np.array(X)"
   ]
  },
  {
   "cell_type": "code",
   "execution_count": 19,
   "metadata": {},
   "outputs": [],
   "source": [
    "theta_0 = X[:, 0]"
   ]
  },
  {
   "cell_type": "code",
   "execution_count": 21,
   "metadata": {},
   "outputs": [],
   "source": [
    "theta_0 = 0"
   ]
  },
  {
   "cell_type": "code",
   "execution_count": 205,
   "metadata": {},
   "outputs": [],
   "source": [
    "theta_1 = 0\n",
    "theta_2 = 0\n",
    "theta = np.array([0, 0, 0])\n",
    "predict = np.dot(np.transpose(theta), np.transpose(X))"
   ]
  },
  {
   "cell_type": "code",
   "execution_count": 95,
   "metadata": {},
   "outputs": [],
   "source": [
    "z = np.zeros(40)\n",
    "for i in range(40):\n",
    "    z[i] = math.exp(-1*predict[i])"
   ]
  },
  {
   "cell_type": "code",
   "execution_count": 96,
   "metadata": {},
   "outputs": [
    {
     "data": {
      "text/plain": [
       "array([1., 1., 1., 1., 1., 1., 1., 1., 1., 1., 1., 1., 1., 1., 1., 1., 1.,\n",
       "       1., 1., 1., 1., 1., 1., 1., 1., 1., 1., 1., 1., 1., 1., 1., 1., 1.,\n",
       "       1., 1., 1., 1., 1., 1.])"
      ]
     },
     "execution_count": 96,
     "metadata": {},
     "output_type": "execute_result"
    }
   ],
   "source": [
    "z"
   ]
  },
  {
   "cell_type": "code",
   "execution_count": 97,
   "metadata": {},
   "outputs": [],
   "source": [
    "z = np.array(z)\n"
   ]
  },
  {
   "cell_type": "code",
   "execution_count": 116,
   "metadata": {},
   "outputs": [
    {
     "data": {
      "text/plain": [
       "array([0.5, 0.5, 0.5, 0.5, 0.5, 0.5, 0.5, 0.5, 0.5, 0.5, 0.5, 0.5, 0.5,\n",
       "       0.5, 0.5, 0.5, 0.5, 0.5, 0.5, 0.5, 0.5, 0.5, 0.5, 0.5, 0.5, 0.5,\n",
       "       0.5, 0.5, 0.5, 0.5, 0.5, 0.5, 0.5, 0.5, 0.5, 0.5, 0.5, 0.5, 0.5,\n",
       "       0.5])"
      ]
     },
     "execution_count": 116,
     "metadata": {},
     "output_type": "execute_result"
    }
   ],
   "source": [
    "h_x = 1/(1 + np.exp(np.dot(np.transpose(theta), np.transpose(X))))\n",
    "h_x"
   ]
  },
  {
   "cell_type": "code",
   "execution_count": 363,
   "metadata": {},
   "outputs": [],
   "source": [
    "L = 0.0001\n",
    "theta_0 = 0\n",
    "theta_1 = 0\n",
    "\n",
    "theta_2 = 0\n",
    "\n",
    "\n",
    "theta = np.array([0, 0, 0])\n",
    "for i in range(10000):\n",
    "    z = np.dot(np.transpose(theta), np.transpose(X))\n",
    "    h_x = 1/(1 + np.exp(-z))\n",
    "    der0 = (1/40) * sum(X[:, 0]*(h_x - y))\n",
    "    der1 = (1/40) * sum(X[:, 1]*(h_x - y))\n",
    "    der2 = (1/40) * sum(X[:, 2]*(h_x - y))\n",
    "    theta_1 = theta_1 - L*der1\n",
    "    theta_0 = theta_0 - L*der0\n",
    "    theta_2 = theta_2 - L*der2\n",
    "    theta = [theta_0, theta_1, theta_2]\n",
    "    \n",
    "    "
   ]
  },
  {
   "cell_type": "code",
   "execution_count": 364,
   "metadata": {},
   "outputs": [
    {
     "data": {
      "text/plain": [
       "array([0.51864129, 0.5212365 , 0.50403181, 0.52198316, 0.51543819,\n",
       "       0.5297307 , 0.48160259, 0.51262715, 0.520387  , 0.47548287,\n",
       "       0.49126606, 0.52032722, 0.52807733, 0.50931094, 0.51066592,\n",
       "       0.48211921, 0.49488655, 0.52311369, 0.47936115, 0.48552291,\n",
       "       0.4921168 , 0.4710959 , 0.48831274, 0.47409253, 0.48490791,\n",
       "       0.52068987, 0.51173834, 0.47859294, 0.52311369, 0.51375919,\n",
       "       0.48460481, 0.48598873, 0.51480172, 0.51986178, 0.51541669,\n",
       "       0.47829012, 0.49013361, 0.48269568, 0.48550141, 0.52032722])"
      ]
     },
     "execution_count": 364,
     "metadata": {},
     "output_type": "execute_result"
    }
   ],
   "source": [
    "h_x"
   ]
  },
  {
   "cell_type": "code",
   "execution_count": 283,
   "metadata": {},
   "outputs": [
    {
     "data": {
      "text/plain": [
       "0     1\n",
       "1     1\n",
       "2     0\n",
       "3     1\n",
       "4     0\n",
       "5     1\n",
       "6     0\n",
       "7     1\n",
       "8     1\n",
       "9     0\n",
       "10    0\n",
       "11    1\n",
       "12    1\n",
       "13    0\n",
       "14    1\n",
       "15    0\n",
       "16    0\n",
       "17    1\n",
       "18    0\n",
       "19    0\n",
       "20    1\n",
       "21    0\n",
       "22    0\n",
       "23    0\n",
       "24    0\n",
       "25    1\n",
       "26    1\n",
       "27    0\n",
       "28    1\n",
       "29    1\n",
       "30    0\n",
       "31    0\n",
       "32    1\n",
       "33    1\n",
       "34    1\n",
       "35    0\n",
       "36    0\n",
       "37    0\n",
       "38    0\n",
       "39    1\n",
       "Name: admitted, dtype: int64"
      ]
     },
     "execution_count": 283,
     "metadata": {},
     "output_type": "execute_result"
    }
   ],
   "source": [
    "y"
   ]
  },
  {
   "cell_type": "code",
   "execution_count": 365,
   "metadata": {},
   "outputs": [],
   "source": [
    "check = np.zeros(40)\n",
    "for i in range(40):\n",
    "    if(h_x[i]) > 0.5:\n",
    "        check[i] = 1\n",
    "    else:\n",
    "        check[i] = 0\n",
    "        "
   ]
  },
  {
   "cell_type": "code",
   "execution_count": 366,
   "metadata": {},
   "outputs": [
    {
     "data": {
      "text/plain": [
       "array([1., 1., 1., 1., 1., 1., 0., 1., 1., 0., 0., 1., 1., 1., 1., 0., 0.,\n",
       "       1., 0., 0., 0., 0., 0., 0., 0., 1., 1., 0., 1., 1., 0., 0., 1., 1.,\n",
       "       1., 0., 0., 0., 0., 1.])"
      ]
     },
     "execution_count": 366,
     "metadata": {},
     "output_type": "execute_result"
    }
   ],
   "source": [
    "check"
   ]
  },
  {
   "cell_type": "code",
   "execution_count": 367,
   "metadata": {},
   "outputs": [
    {
     "data": {
      "text/plain": [
       "0.9"
      ]
     },
     "execution_count": 367,
     "metadata": {},
     "output_type": "execute_result"
    }
   ],
   "source": [
    "counter = 0\n",
    "for i in range(40):\n",
    "    if(y[i] == check[i]):\n",
    "        counter = counter+1\n",
    "        \n",
    "accurate = counter/40\n",
    "accurate"
   ]
  },
  {
   "cell_type": "code",
   "execution_count": 328,
   "metadata": {},
   "outputs": [],
   "source": [
    "X[:,0] = (X[:,0]-660)/240"
   ]
  },
  {
   "cell_type": "code",
   "execution_count": 329,
   "metadata": {},
   "outputs": [
    {
     "data": {
      "text/plain": [
       "array([[ 0.5       ,  0.5       , -0.1       ],\n",
       "       [ 0.375     ,  0.45652174,  0.1       ],\n",
       "       [ 0.125     ,  0.19565217, -0.1       ],\n",
       "       [ 0.20833333,  0.36956522,  0.3       ],\n",
       "       [ 0.08333333,  0.45652174,  0.1       ],\n",
       "       [ 0.29166667,  0.36956522,  0.5       ],\n",
       "       [ 0.125     , -0.23913043, -0.5       ],\n",
       "       [ 0.25      ,  0.19565217,  0.1       ],\n",
       "       [ 0.33333333,  0.19565217,  0.3       ],\n",
       "       [ 0.125     , -0.5       , -0.5       ],\n",
       "       [-0.20833333, -0.06521739, -0.1       ],\n",
       "       [ 0.125     ,  0.36956522,  0.3       ],\n",
       "       [ 0.20833333,  0.36956522,  0.5       ],\n",
       "       [ 0.08333333,  0.19565217,  0.1       ],\n",
       "       [ 0.45833333,  0.19565217, -0.1       ],\n",
       "       [-0.20833333,  0.06521739, -0.5       ],\n",
       "       [-0.33333333, -0.06521739,  0.1       ],\n",
       "       [-0.04166667,  0.36956522,  0.5       ],\n",
       "       [-0.5       , -0.06521739, -0.3       ],\n",
       "       [-0.29166667, -0.23913043, -0.1       ],\n",
       "       [-0.16666667,  0.19565217, -0.3       ],\n",
       "       [-0.25      , -0.36956522, -0.5       ],\n",
       "       [-0.45833333, -0.23913043,  0.1       ],\n",
       "       [-0.45833333, -0.06521739, -0.5       ],\n",
       "       [-0.375     ,  0.06521739, -0.3       ],\n",
       "       [ 0.04166667,  0.19565217,  0.5       ],\n",
       "       [ 0.        ,  0.36956522,  0.1       ],\n",
       "       [-0.33333333, -0.23913043, -0.3       ],\n",
       "       [-0.04166667,  0.36956522,  0.5       ],\n",
       "       [ 0.        ,  0.19565217,  0.3       ],\n",
       "       [-0.08333333,  0.06521739, -0.5       ],\n",
       "       [-0.16666667, -0.06521739, -0.3       ],\n",
       "       [ 0.        ,  0.5       ,  0.1       ],\n",
       "       [ 0.        ,  0.19565217,  0.5       ],\n",
       "       [ 0.08333333,  0.19565217,  0.3       ],\n",
       "       [-0.04166667, -0.23913043, -0.5       ],\n",
       "       [ 0.04166667, -0.06521739, -0.3       ],\n",
       "       [-0.33333333,  0.19565217, -0.5       ],\n",
       "       [-0.29166667, -0.5       ,  0.1       ],\n",
       "       [ 0.125     ,  0.36956522,  0.3       ]])"
      ]
     },
     "execution_count": 329,
     "metadata": {},
     "output_type": "execute_result"
    }
   ],
   "source": [
    "X"
   ]
  },
  {
   "cell_type": "code",
   "execution_count": null,
   "metadata": {},
   "outputs": [],
   "source": []
  }
 ],
 "metadata": {
  "kernelspec": {
   "display_name": "Python 3",
   "language": "python",
   "name": "python3"
  },
  "language_info": {
   "codemirror_mode": {
    "name": "ipython",
    "version": 3
   },
   "file_extension": ".py",
   "mimetype": "text/x-python",
   "name": "python",
   "nbconvert_exporter": "python",
   "pygments_lexer": "ipython3",
   "version": "3.7.6"
  }
 },
 "nbformat": 4,
 "nbformat_minor": 4
}
